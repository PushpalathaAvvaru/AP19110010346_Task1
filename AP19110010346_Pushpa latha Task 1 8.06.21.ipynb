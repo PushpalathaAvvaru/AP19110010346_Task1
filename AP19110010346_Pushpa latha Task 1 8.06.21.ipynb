{
 "cells": [
  {
   "cell_type": "code",
   "execution_count": 12,
   "id": "ff6e6b23",
   "metadata": {},
   "outputs": [
    {
     "name": "stdout",
     "output_type": "stream",
     "text": [
      "18\n",
      "The person is eligible to vote\n"
     ]
    }
   ],
   "source": [
    "#Write a program to check wheather the user eligible for vote or not\n",
    "age=int(input())\n",
    "\n",
    "if age >= 18:\n",
    "    print(\"The person is eligible to vote\")\n",
    "else:\n",
    "    print(\"The person isn't eligible to vote\")"
   ]
  },
  {
   "cell_type": "code",
   "execution_count": 15,
   "id": "6e01e72f",
   "metadata": {},
   "outputs": [
    {
     "name": "stdout",
     "output_type": "stream",
     "text": [
      "-9\n",
      "The number is Negative\n"
     ]
    }
   ],
   "source": [
    "#Check the given number is positive or negative\n",
    "n=int(input())\n",
    "if n>=0:\n",
    "    print(\"The number is Positive\")\n",
    "else:\n",
    "    print(\"The number is Negative\")"
   ]
  },
  {
   "cell_type": "code",
   "execution_count": 19,
   "id": "26fefe29",
   "metadata": {},
   "outputs": [
    {
     "name": "stdout",
     "output_type": "stream",
     "text": [
      "12\n",
      "The number is even\n"
     ]
    }
   ],
   "source": [
    "#check the given number is even or odd if it's even check which is divisible by 4 or not\n",
    "n=int(input())\n",
    "if n%2==0 and n%4==0:\n",
    "    print(\"The number is even and divisble by 4\")\n",
    "else:\n",
    "    print(\"The number is odd\")\n",
    "    "
   ]
  },
  {
   "cell_type": "code",
   "execution_count": 4,
   "id": "db6672ea",
   "metadata": {},
   "outputs": [
    {
     "name": "stdout",
     "output_type": "stream",
     "text": [
      "60\n",
      "70\n",
      "80\n",
      "70.0\n",
      "Pass\n"
     ]
    }
   ],
   "source": [
    "#write a program to print student grade based on percentage like Distinction,pass or fail\n",
    "maths=int(input())\n",
    "English=int(input())\n",
    "Python=int(input())\n",
    "total=English+Python+maths\n",
    "percentage=total/3\n",
    "print(percentage)\n",
    "if percentage>90:\n",
    "    print(\"Distinction\")\n",
    "elif percentage>60:\n",
    "    print(\"Pass\")\n",
    "else:\n",
    "    print(\"Fail\")"
   ]
  },
  {
   "cell_type": "code",
   "execution_count": null,
   "id": "15388017",
   "metadata": {},
   "outputs": [],
   "source": [
    "#Check the given year is Leap or not\n",
    "year=int(input())\n",
    "if year%2==0 and year%100==0 and year%400==0:\n",
    "    print(\"It is a Leap year\")\n",
    "else:\n",
    "    print(\"It isn't a leap year\")"
   ]
  },
  {
   "cell_type": "code",
   "execution_count": null,
   "id": "acac8f53",
   "metadata": {},
   "outputs": [],
   "source": []
  }
 ],
 "metadata": {
  "kernelspec": {
   "display_name": "Python 3",
   "language": "python",
   "name": "python3"
  },
  "language_info": {
   "codemirror_mode": {
    "name": "ipython",
    "version": 3
   },
   "file_extension": ".py",
   "mimetype": "text/x-python",
   "name": "python",
   "nbconvert_exporter": "python",
   "pygments_lexer": "ipython3",
   "version": "3.8.8"
  }
 },
 "nbformat": 4,
 "nbformat_minor": 5
}
